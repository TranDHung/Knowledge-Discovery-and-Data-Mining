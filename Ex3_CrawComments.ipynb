{
 "cells": [
  {
   "cell_type": "code",
   "execution_count": 1,
   "id": "f2174c9f",
   "metadata": {},
   "outputs": [],
   "source": [
    "from selenium import webdriver\n",
    "from selenium.webdriver.chrome.service import Service\n",
    "from webdriver_manager.chrome import ChromeDriverManager\n",
    "import pandas as pd\n",
    "from random import randint\n",
    "from time import sleep\n",
    "from selenium.webdriver.common.by import By\n",
    "from selenium.webdriver.common.keys import Keys\n",
    "from selenium.webdriver.support.ui import WebDriverWait \n",
    "from selenium.webdriver.support import expected_conditions as EC\n",
    "\n",
    "import re\n",
    "import underthesea\n",
    "from underthesea import word_tokenize\n",
    "from tensorflow.keras.preprocessing.text import Tokenizer "
   ]
  },
  {
   "cell_type": "markdown",
   "id": "dfe4e21f",
   "metadata": {},
   "source": [
    "## Crawl Comments"
   ]
  },
  {
   "cell_type": "markdown",
   "id": "a3b808ba",
   "metadata": {},
   "source": [
    "### Open the chrome browser"
   ]
  },
  {
   "cell_type": "code",
   "execution_count": 2,
   "id": "857db17e",
   "metadata": {},
   "outputs": [
    {
     "name": "stderr",
     "output_type": "stream",
     "text": [
      "\n",
      "\n",
      "====== WebDriver manager ======\n",
      "Current google-chrome version is 100.0.4896\n",
      "Get LATEST chromedriver version for 100.0.4896 google-chrome\n",
      "Driver [C:\\Users\\ADMIN\\.wdm\\drivers\\chromedriver\\win32\\100.0.4896.60\\chromedriver.exe] found in cache\n"
     ]
    }
   ],
   "source": [
    "#Using chromedriver to open browser which install automaticly\n",
    "browser = webdriver.Chrome(service=Service(ChromeDriverManager().install()))\n",
    "# Open the browser with the link\n",
    "browser.get(\"https://www.youtube.com/watch?v=6Q7mfthgMAU\")"
   ]
  },
  {
   "cell_type": "markdown",
   "id": "192b9934",
   "metadata": {},
   "source": [
    "### Crawl comments"
   ]
  },
  {
   "cell_type": "code",
   "execution_count": 3,
   "id": "04d17e69",
   "metadata": {},
   "outputs": [],
   "source": [
    "data = [] #List to store comments crawled\n",
    "wait = WebDriverWait(browser, 2)\n",
    "\n",
    "#First Scroll down and wait until everything is visible with wait.until and EC.visibility_of_element_located.\n",
    "#Scroll down about 50 times to render comments\n",
    "for i in range(50): \n",
    "    wait.until(EC.visibility_of_element_located((By.TAG_NAME, \"body\"))).send_keys(Keys.END)\n",
    "    sleep(2) #delay randomly from 2s\n",
    "\n",
    "#Crawl the comments by finding all the #content-text elements\n",
    "comment_list = browser.find_elements(By.ID, \"content-text\")\n",
    "\n",
    "#Append comments to data storage\n",
    "for comment in comment_list:\n",
    "    if len(data) == 200:\n",
    "        break\n",
    "    if comment.text not in data:\n",
    "        data.append(comment.text)"
   ]
  },
  {
   "cell_type": "code",
   "execution_count": 4,
   "id": "4518529a",
   "metadata": {},
   "outputs": [
    {
     "data": {
      "text/plain": [
       "200"
      ]
     },
     "execution_count": 4,
     "metadata": {},
     "output_type": "execute_result"
    }
   ],
   "source": [
    "len(data)"
   ]
  },
  {
   "cell_type": "code",
   "execution_count": 5,
   "id": "169b264f",
   "metadata": {},
   "outputs": [
    {
     "data": {
      "text/html": [
       "<div>\n",
       "<style scoped>\n",
       "    .dataframe tbody tr th:only-of-type {\n",
       "        vertical-align: middle;\n",
       "    }\n",
       "\n",
       "    .dataframe tbody tr th {\n",
       "        vertical-align: top;\n",
       "    }\n",
       "\n",
       "    .dataframe thead th {\n",
       "        text-align: right;\n",
       "    }\n",
       "</style>\n",
       "<table border=\"1\" class=\"dataframe\">\n",
       "  <thead>\n",
       "    <tr style=\"text-align: right;\">\n",
       "      <th></th>\n",
       "      <th>comments</th>\n",
       "    </tr>\n",
       "  </thead>\n",
       "  <tbody>\n",
       "    <tr>\n",
       "      <th>0</th>\n",
       "      <td>ĐIỀU GÌ KHIẾN RONALDO BỚT ĐÁNG SỢ TRONG MẮT AT...</td>\n",
       "    </tr>\n",
       "    <tr>\n",
       "      <th>1</th>\n",
       "      <td>Đến cuối cùng thì chiếc CUP lớn nhất và quan t...</td>\n",
       "    </tr>\n",
       "    <tr>\n",
       "      <th>2</th>\n",
       "      <td>Không phải fan ATM nhưng thấy thắng MU là mình...</td>\n",
       "    </tr>\n",
       "    <tr>\n",
       "      <th>3</th>\n",
       "      <td>Ở Simone luôn có nhiệt huyết và độ quái từ khi...</td>\n",
       "    </tr>\n",
       "    <tr>\n",
       "      <th>4</th>\n",
       "      <td>Đúng là câu nói hằng năm với MU “đầu mùa ăn 6 ...</td>\n",
       "    </tr>\n",
       "  </tbody>\n",
       "</table>\n",
       "</div>"
      ],
      "text/plain": [
       "                                            comments\n",
       "0  ĐIỀU GÌ KHIẾN RONALDO BỚT ĐÁNG SỢ TRONG MẮT AT...\n",
       "1  Đến cuối cùng thì chiếc CUP lớn nhất và quan t...\n",
       "2  Không phải fan ATM nhưng thấy thắng MU là mình...\n",
       "3  Ở Simone luôn có nhiệt huyết và độ quái từ khi...\n",
       "4  Đúng là câu nói hằng năm với MU “đầu mùa ăn 6 ..."
      ]
     },
     "execution_count": 5,
     "metadata": {},
     "output_type": "execute_result"
    }
   ],
   "source": [
    "#Convert data list to dataframe\n",
    "df = pd.DataFrame(data, columns=['comments'])\n",
    "df.head()"
   ]
  },
  {
   "cell_type": "code",
   "execution_count": 6,
   "id": "6504a203",
   "metadata": {},
   "outputs": [
    {
     "name": "stdout",
     "output_type": "stream",
     "text": [
      "<class 'pandas.core.frame.DataFrame'>\n",
      "RangeIndex: 200 entries, 0 to 199\n",
      "Data columns (total 1 columns):\n",
      " #   Column    Non-Null Count  Dtype \n",
      "---  ------    --------------  ----- \n",
      " 0   comments  200 non-null    object\n",
      "dtypes: object(1)\n",
      "memory usage: 1.7+ KB\n"
     ]
    }
   ],
   "source": [
    "df.info()"
   ]
  },
  {
   "cell_type": "code",
   "execution_count": 7,
   "id": "a0503c47",
   "metadata": {},
   "outputs": [],
   "source": [
    "#Save dataframe to file .csv\n",
    "df.to_csv('Crawl_comments.csv')"
   ]
  },
  {
   "cell_type": "markdown",
   "id": "7b4dff5d",
   "metadata": {},
   "source": [
    "## Feature Extraction"
   ]
  },
  {
   "cell_type": "code",
   "execution_count": 8,
   "id": "1a37e268",
   "metadata": {},
   "outputs": [],
   "source": [
    "df = pd.read_csv('./Crawl_comments.csv')"
   ]
  },
  {
   "cell_type": "code",
   "execution_count": 9,
   "id": "5917c8bb",
   "metadata": {},
   "outputs": [
    {
     "data": {
      "text/html": [
       "<div>\n",
       "<style scoped>\n",
       "    .dataframe tbody tr th:only-of-type {\n",
       "        vertical-align: middle;\n",
       "    }\n",
       "\n",
       "    .dataframe tbody tr th {\n",
       "        vertical-align: top;\n",
       "    }\n",
       "\n",
       "    .dataframe thead th {\n",
       "        text-align: right;\n",
       "    }\n",
       "</style>\n",
       "<table border=\"1\" class=\"dataframe\">\n",
       "  <thead>\n",
       "    <tr style=\"text-align: right;\">\n",
       "      <th></th>\n",
       "      <th>Unnamed: 0</th>\n",
       "      <th>comments</th>\n",
       "    </tr>\n",
       "  </thead>\n",
       "  <tbody>\n",
       "    <tr>\n",
       "      <th>0</th>\n",
       "      <td>0</td>\n",
       "      <td>ĐIỀU GÌ KHIẾN RONALDO BỚT ĐÁNG SỢ TRONG MẮT AT...</td>\n",
       "    </tr>\n",
       "    <tr>\n",
       "      <th>1</th>\n",
       "      <td>1</td>\n",
       "      <td>Đến cuối cùng thì chiếc CUP lớn nhất và quan t...</td>\n",
       "    </tr>\n",
       "    <tr>\n",
       "      <th>2</th>\n",
       "      <td>2</td>\n",
       "      <td>Không phải fan ATM nhưng thấy thắng MU là mình...</td>\n",
       "    </tr>\n",
       "    <tr>\n",
       "      <th>3</th>\n",
       "      <td>3</td>\n",
       "      <td>Ở Simone luôn có nhiệt huyết và độ quái từ khi...</td>\n",
       "    </tr>\n",
       "    <tr>\n",
       "      <th>4</th>\n",
       "      <td>4</td>\n",
       "      <td>Đúng là câu nói hằng năm với MU “đầu mùa ăn 6 ...</td>\n",
       "    </tr>\n",
       "  </tbody>\n",
       "</table>\n",
       "</div>"
      ],
      "text/plain": [
       "   Unnamed: 0                                           comments\n",
       "0           0  ĐIỀU GÌ KHIẾN RONALDO BỚT ĐÁNG SỢ TRONG MẮT AT...\n",
       "1           1  Đến cuối cùng thì chiếc CUP lớn nhất và quan t...\n",
       "2           2  Không phải fan ATM nhưng thấy thắng MU là mình...\n",
       "3           3  Ở Simone luôn có nhiệt huyết và độ quái từ khi...\n",
       "4           4  Đúng là câu nói hằng năm với MU “đầu mùa ăn 6 ..."
      ]
     },
     "execution_count": 9,
     "metadata": {},
     "output_type": "execute_result"
    }
   ],
   "source": [
    "df.head()"
   ]
  },
  {
   "cell_type": "markdown",
   "id": "81d24eed",
   "metadata": {},
   "source": [
    "**Text Preprocessing**"
   ]
  },
  {
   "cell_type": "code",
   "execution_count": 10,
   "id": "4557ecda",
   "metadata": {},
   "outputs": [],
   "source": [
    "# Remove noise\n",
    "def clean_noise(df, text_field, new_text_field_name):\n",
    "  # convert to lower case\n",
    "  df[new_text_field_name] = df[text_field].str.lower()\n",
    "  # remove url\n",
    "  df[new_text_field_name] = df[new_text_field_name].apply(lambda ele: re.sub(r\"http\\S+\", \"\", ele))  \n",
    "  # remove non-ascii and numbers\n",
    "  df[new_text_field_name] = df[new_text_field_name].apply(lambda ele: re.sub(\"(\\\\W|\\\\d)\", \" \", ele))\n",
    "  return df"
   ]
  },
  {
   "cell_type": "code",
   "execution_count": 11,
   "id": "9d6b5816",
   "metadata": {},
   "outputs": [],
   "source": [
    "clean_df = clean_noise(df,'comments','clean_comments')"
   ]
  },
  {
   "cell_type": "code",
   "execution_count": 12,
   "id": "437c8189",
   "metadata": {},
   "outputs": [
    {
     "data": {
      "text/html": [
       "<div>\n",
       "<style scoped>\n",
       "    .dataframe tbody tr th:only-of-type {\n",
       "        vertical-align: middle;\n",
       "    }\n",
       "\n",
       "    .dataframe tbody tr th {\n",
       "        vertical-align: top;\n",
       "    }\n",
       "\n",
       "    .dataframe thead th {\n",
       "        text-align: right;\n",
       "    }\n",
       "</style>\n",
       "<table border=\"1\" class=\"dataframe\">\n",
       "  <thead>\n",
       "    <tr style=\"text-align: right;\">\n",
       "      <th></th>\n",
       "      <th>Unnamed: 0</th>\n",
       "      <th>comments</th>\n",
       "      <th>clean_comments</th>\n",
       "    </tr>\n",
       "  </thead>\n",
       "  <tbody>\n",
       "    <tr>\n",
       "      <th>0</th>\n",
       "      <td>0</td>\n",
       "      <td>ĐIỀU GÌ KHIẾN RONALDO BỚT ĐÁNG SỢ TRONG MẮT AT...</td>\n",
       "      <td>điều gì khiến ronaldo bớt đáng sợ trong mắt at...</td>\n",
       "    </tr>\n",
       "    <tr>\n",
       "      <th>1</th>\n",
       "      <td>1</td>\n",
       "      <td>Đến cuối cùng thì chiếc CUP lớn nhất và quan t...</td>\n",
       "      <td>đến cuối cùng thì chiếc cup lớn nhất và quan t...</td>\n",
       "    </tr>\n",
       "    <tr>\n",
       "      <th>2</th>\n",
       "      <td>2</td>\n",
       "      <td>Không phải fan ATM nhưng thấy thắng MU là mình...</td>\n",
       "      <td>không phải fan atm nhưng thấy thắng mu là mình...</td>\n",
       "    </tr>\n",
       "    <tr>\n",
       "      <th>3</th>\n",
       "      <td>3</td>\n",
       "      <td>Ở Simone luôn có nhiệt huyết và độ quái từ khi...</td>\n",
       "      <td>ở simone luôn có nhiệt huyết và độ quái từ khi...</td>\n",
       "    </tr>\n",
       "    <tr>\n",
       "      <th>4</th>\n",
       "      <td>4</td>\n",
       "      <td>Đúng là câu nói hằng năm với MU “đầu mùa ăn 6 ...</td>\n",
       "      <td>đúng là câu nói hằng năm với mu  đầu mùa ăn   ...</td>\n",
       "    </tr>\n",
       "    <tr>\n",
       "      <th>5</th>\n",
       "      <td>5</td>\n",
       "      <td>Chúc mừng Aletico Marid , họ là những  ng xứng...</td>\n",
       "      <td>chúc mừng aletico marid   họ là những  ng xứng...</td>\n",
       "    </tr>\n",
       "    <tr>\n",
       "      <th>6</th>\n",
       "      <td>6</td>\n",
       "      <td>Chúc mừng Atletico . Chúc mừng các bạn giành v...</td>\n",
       "      <td>chúc mừng atletico   chúc mừng các bạn giành v...</td>\n",
       "    </tr>\n",
       "    <tr>\n",
       "      <th>7</th>\n",
       "      <td>7</td>\n",
       "      <td>Hàng thủ rất ổn định trận nào cũng thủng lưới ...</td>\n",
       "      <td>hàng thủ rất ổn định trận nào cũng thủng lưới ...</td>\n",
       "    </tr>\n",
       "    <tr>\n",
       "      <th>8</th>\n",
       "      <td>8</td>\n",
       "      <td>2:20 Elanga sút cận thành trúng đầu Oblak, quá...</td>\n",
       "      <td>elanga sút cận thành trúng đầu oblak  quá...</td>\n",
       "    </tr>\n",
       "    <tr>\n",
       "      <th>9</th>\n",
       "      <td>9</td>\n",
       "      <td>Phong độ là nhất thời đẳng cấp là những gì Atl...</td>\n",
       "      <td>phong độ là nhất thời đẳng cấp là những gì atl...</td>\n",
       "    </tr>\n",
       "  </tbody>\n",
       "</table>\n",
       "</div>"
      ],
      "text/plain": [
       "   Unnamed: 0                                           comments  \\\n",
       "0           0  ĐIỀU GÌ KHIẾN RONALDO BỚT ĐÁNG SỢ TRONG MẮT AT...   \n",
       "1           1  Đến cuối cùng thì chiếc CUP lớn nhất và quan t...   \n",
       "2           2  Không phải fan ATM nhưng thấy thắng MU là mình...   \n",
       "3           3  Ở Simone luôn có nhiệt huyết và độ quái từ khi...   \n",
       "4           4  Đúng là câu nói hằng năm với MU “đầu mùa ăn 6 ...   \n",
       "5           5  Chúc mừng Aletico Marid , họ là những  ng xứng...   \n",
       "6           6  Chúc mừng Atletico . Chúc mừng các bạn giành v...   \n",
       "7           7  Hàng thủ rất ổn định trận nào cũng thủng lưới ...   \n",
       "8           8  2:20 Elanga sút cận thành trúng đầu Oblak, quá...   \n",
       "9           9  Phong độ là nhất thời đẳng cấp là những gì Atl...   \n",
       "\n",
       "                                      clean_comments  \n",
       "0  điều gì khiến ronaldo bớt đáng sợ trong mắt at...  \n",
       "1  đến cuối cùng thì chiếc cup lớn nhất và quan t...  \n",
       "2  không phải fan atm nhưng thấy thắng mu là mình...  \n",
       "3  ở simone luôn có nhiệt huyết và độ quái từ khi...  \n",
       "4  đúng là câu nói hằng năm với mu  đầu mùa ăn   ...  \n",
       "5  chúc mừng aletico marid   họ là những  ng xứng...  \n",
       "6  chúc mừng atletico   chúc mừng các bạn giành v...  \n",
       "7  hàng thủ rất ổn định trận nào cũng thủng lưới ...  \n",
       "8       elanga sút cận thành trúng đầu oblak  quá...  \n",
       "9  phong độ là nhất thời đẳng cấp là những gì atl...  "
      ]
     },
     "execution_count": 12,
     "metadata": {},
     "output_type": "execute_result"
    }
   ],
   "source": [
    "clean_df.head(10)"
   ]
  },
  {
   "cell_type": "markdown",
   "id": "3042a719",
   "metadata": {},
   "source": [
    "**Word Segmentation with underthesea**"
   ]
  },
  {
   "cell_type": "code",
   "execution_count": 13,
   "id": "c573a74d",
   "metadata": {},
   "outputs": [
    {
     "name": "stdout",
     "output_type": "stream",
     "text": [
      "all_tokens_count= 3991\n",
      "200\n",
      "[['điều', 'gì', 'khiến', 'ronaldo', 'bớt', 'đáng', 'sợ', 'trong', 'mắt', 'atletico'], ['đến', 'cuối cùng', 'thì', 'chiếc', 'cup', 'lớn', 'nhất', 'và', 'quan trọng', 'nhất', 'đối với', 'mu', 'chính', 'là', 'chiếc', 'cup', 'trong', 'lòng', 'nhm', 'đầu', 'mùa', 'nhuộm', 'đỏ', 'trời', 'âu', 'cuối', 'mùa', 'nhuộm', 'đỏ', 'hang', 'sâu', 'ngõ', 'cùng', 'thật sự', 'xúc động', 'khi', 'được', 'nhìn', 'thấy', 'các', 'cđv', 'mu', 'tri ân', 'hlv', 'diego', 'simeone', 'sau', 'trận', 'đấu'], ['không', 'phải', 'fan', 'atm', 'nhưng', 'thấy', 'thắng', 'mu', 'là', 'mình', 'rất', 'thích'], ['ở', 'simone', 'luôn', 'có', 'nhiệt huyết', 'và', 'độ', 'quái', 'từ', 'khi', 'còn', 'là', 'cầu thủ', 'có thể', 'thấy', 'simone', 'khi', 'là', 'hlv', 'thì', 'luôn', 'làm', 'cho', 'các', 'cầu thủ', 'nể', 'và', 'có', 'phần', 'sợ', 'nên', 'luôn', 'giúp', 'các', 'cầu thủ', 'thi đấu', 'đông', 'lòng', 'và', 'không', 'đòi hỏi', 'đi', 'hay', 'ở'], ['đúng', 'là', 'câu', 'nói', 'hằng', 'năm', 'với', 'mu', 'đầu', 'mùa', 'ăn', 'giữa', 'mùa', 'ăn', 'cuối', 'mùa', 'còn', 'cái', 'nịt', 'và', 'thế là', 'cuối cùng', 'với', 'mu', 'chiếc', 'cúp', 'trong', 'lòng', 'người', 'hâm mộ', 'là', 'chiếc', 'cúp', 'quý giá', 'nhất'], ['chúc mừng', 'aletico', 'marid', 'họ', 'là', 'những', 'ng', 'xứng đáng', 'mu', 'chơi', 'v', 'là', 'hay', 'rồi', 'nhưng', 'chỉ', 'kém', 'may mắn', 'trong', 'những', 'cơ hội', 'tấn công', 'mà', 'thôi', 'không', 'sao', 'cả', 'nếu', 'năm', 'nay', 'không', 'đi', 'tiếp', 'được', 'ta', 'vẫn', 'còn', 'những', 'năm', 'sau', 'để', 'trở lại', 'những', 'thời', 'hoàng kim', 'ngày', 'trước', 'mãi', 'yêu', 'manchester', 'united'], ['chúc mừng', 'atletico', 'chúc mừng', 'các', 'bạn', 'giành', 'vé', 'đi', 'tiếp', 'các', 'bạn', 'xứng đáng', 'hơn', 'mu', 'rất', 'nhiều'], ['hàng', 'thủ', 'rất', 'ổn định', 'trận', 'nào', 'cũng', 'thủng lưới', 'đều đều', 'phong độ', 'quá', 'ổn'], ['elanga', 'sút', 'cận', 'thành', 'trúng', 'đầu', 'oblak', 'quá', 'đáng', 'tiếc', 'felix', 'ghi bàn', 'nhưng', 'trước', 'đó', 'marcos', 'llorente', 'đã', 'việt vị', 'griezmann', 'tạt', 'bóng', 'chạm', 'lodi', 'đánh', 'đầu', 'vào', 'góc', 'gần', 'mở', 'tỷ số', 'lỗi', 'kèm', 'ng', 'của', 'dalot'], ['phong độ', 'là', 'nhất thời', 'đẳng cấp', 'là', 'những', 'gì', 'atletico', 'thể hiện'], ['đáng', 'ra', 'nên', 'giữ', 'đội hình', 'tương tự', 'hôm', 'trước', 'matic', 'vào', 'thay', 'cho', 'mc', 'tominnay', 'còn', 'pogba', 'thay', 'cho', 'bruno', 'matic', 'chuyền', 'bóng', 'vẫn', 'là', 'khác biệt', 'hơn', 'bruno', 'thì', 'tấn công', 'hay', 'rồi', 'nma', 'về', 'phòng thủ', 'thì', 'không', 'đóng góp', 'gì', 'mấy'], ['vẫn', 'là', 'de', 'gea', 'quá', 'xuất sắc', 'phải', 'nói', 'là', 'thủ thành', 'chơi', 'rất', 'xuất sắc', 'vẫn', 'là', 'maguire', 'một', 'trung vệ', 'quá', 'bình thường', 'và', 'chơi', 'như', 'một', 'tiền vệ đội trưởng', 'gì', 'mà', 'không', 'có', 'tầm', 'ảnh hưởng', 'gì', 'hết', 'trận', 'đấu', 'hấp dẫn', 'nhưng', 'athletic', 'marid', 'may mắn', 'hơn', 'và', 'giành', 'chiến thắng', 'xứng đáng'], ['huấn luyện viên', 'simone', 'chạy', 'ngay', 'vào', 'trong', 'khi', 'thắng', 'mà', 'cổ động viên', 'ở', 'trong', 'sân', 'còn', 'lém', 'đồ', 'như', 'đúng', 'đúng', 'là', 'phản ánh', 'của', 'nsnd'], ['hary', 'magiue', 'đúng', 'là', 'cầu thủ', 'đa năng', 'tấn công', 'ghi bàn', 'tốt', 'phòng thủ', 'tốt', 'ghi bàn', 'đến', 'de', 'gea', 'còn', 'phải', 'đứng', 'chôn chân', 'phòng thủ', 'đến', 'ronaldo', 'còn', 'ko', 'qua', 'được'], ['bất ngờ', 'từ', 'trước', 'đến', 'nay', 'man', 'united', 'hôm nay', 'đã', 'dừng', 'bước', 'tới', 'đấu trường', 'trong', 'nước', 'và', 'ngoài', 'nước', 'đều', 'là', 'trên', 'sân nhà', 'khi', 'chỉ', 'bị', 'thua', 'liên tiếp', 'với', 'tỉ số', 'tối thiểu', 'liên tiếp', 'mà', 'phải', 'ngậm ngùi', 'dừng', 'bước', 'sớm', 'hi vọng', 'còn', 'lại', 'chỉ', 'còn', 'là', 'cuộc', 'đua', 'gian nan', 'vào', 'top', 'mùa', 'này'], ['thật', 'đáng', 'tiếc', 'cho', 'hai', 'ngôi sao', 'hàng đầu', 'bóng đá', 'thế giới'], ['mu', 'thua', 'cx', 'phải', 'thôi', 'bởi', 'hiện tại', 'hàng', 'thủ', 'và', 'tuyến', 'giữa', 'quá', 'yếu', 'mấy', 'năm', 'liền', 'toàn', 'đá', 'c', 'mà', 'năm', 'nay', 'vào', 'vòng', 'là', 'tiến bộ', 'vượt bậc', 'r', 'mu', 'hiện tại', 'chỉ', 'mạnh', 'bằng', 'nửa', 'alt', 'thôi', 'nên', 'nhớ', 'là', 'alt', 'năm', 'nào', 'cx', 'đá', 'c', 'và', 'vào', 'vòng', 'sâu', 'liên tục', 'đấy'], ['chả', 'có', 'gì', 'bất ngờ', 'lắm', 'khi', 'lượt', 'đi', 'mu', 'cầm', 'hòa', 'may mắn', 'có', 'thực lực', 'mới', 'buồn', 'chứ', 'đội', 'không', 'có', 'thực lực', 'thì', 'sao', 'phải', 'buồn', 'nhỉ'], ['lại', 'một', 'mùa', 'giải', 'trắng tay', 'dù', 'ai', 'nỏ', 'ngã', 'nói', 'nghiêng', 'vẫn', 'dành', 'tình yêu', 'cho', 'đội', 'bóng', 'yêu thích', 'của', 'mình', 'manchester', 'united'], ['rất', 'thích', 'phong cách', 'máu lửa', 'có', 'phần', 'cục súc', 'của', 'athletico'], ['de', 'paul', 'sút', 'quả', 'khó', 'vậy', 'mà', 'de', 'gea', 'vẫn', 'đẩy', 'được', 'xuất sắc'], ['thật', 'đáng', 'tiếc', 'mu', 'đang', 'thiếu', 'hlv', 'giỏi', 'giờ', 'đá', 'theo', 'kiểu', 'trông chờ', 'cá nhân', 'nổi bật', 'và', 'may mắn', 'chứ', 'có', 'bóng', 'đến', 'trước', 'khung thành', 'đội', 'bạn', 'là', 'mạnh', 'ai', 'ngưới', 'đấy', 'sút', 'không', 'có', 'các', 'bài', 'đánh', 'pha', 'phối hợp', 'gây', 'đột biến', 'hàng', 'tiền vệ', 'thì', 'rời rạc', 'không', 'cầm', 'và', 'phát triển', 'nổi', 'bóng', 'hậu vệ', 'thì', 'chậm', 'lóng ngóng', 'không', 'dứt khoát', 'tôi', 'cho', 'cr', 'và', 'david', 'de', 'gea'], ['ko', 'sao', 'chiếc', 'cúp', 'trong', 'lòng', 'người', 'hâm mộ', 'vẫn', 'là', 'vô giá'], ['griezmann', 'trận', 'này', 'hay', 'ghê', 'chơi', 'quá', 'cháy', 'atm', 'quá', 'đỉnh'], ['không', 'co', 'gi', 'pha', 'i', 'pha', 'n', 'na', 'n', 'vi', 'trâ', 'n', 'na', 'y', 'mu', 'chơi', 'châ', 'p', 'đôi', 'ca', 'nh', 'nhi', 'n', 'ca', 'nh', 'mu', 'hiê', 'n', 'ta', 'i', 'thâ', 't', 'sư', 'nga', 'n', 'ngâ', 'm', 'thôi', 'thi', 'nghi', 'sơ', 'm', 'đê', 'dô', 'n', 'sư', 'c', 'cho', 'vi', 'tri', 'thư', 'đê', 'mu', 'a', 'sau', 'uô', 'ng', 'c', 'cho', 'ma', 't'], ['đúng', 'như', 'tôi', 'dự đoán', 'đội hình', 'mu', 'hôm', 'trước', 'thắng', 'tottenham', 'khiến', 'rangnick', 'không', 'vui', 'ổng', 'muốn', 'mu', 'thua', 'trận', 'đó', 'nhưng', 'không', 'thành công', 'nay', 'rangnick', 'đổi', 'đội hình', 'khác', 'cho', 'bruno', 'vào', 'mà', 'không', 'cho', 'cavani', 'vào', 'phối hợp', 'vẫn', 'để', 'maguire', 'làm', 'đội trưởng', 'rangnick', 'muốn', 'mu', 'phải', 'thua', 'trên', 'mọi', 'đấu trường', 'ổng', 'là', 'anti', 'fan', 'của', 'mu', 'mà', 'ổng', 'là', 'điệp viên', 'nguy hiểm', 'hơn', 'maguire', 'nhiều'], ['khi', 'hàng', 'hậu vệ', 'trở nên', 'yếu kém', 'de', 'gea', 'luôn', 'đúng', 'vai', 'người hùng'], ['hâm mộ', 'atletico', 'từ', 'năm', 'xin', 'chúc mừng', 'đội', 'bóng', 'của', 'tôi'], ['tuyệt vời', 'đội', 'nào', 'cũng', 'đc', 'cứ', 'thắng', 'mu', 'là', 'đc'], ['tuyệt vời', 'atletico', 'madrid'], ['hai', 'bàn tay trắng', 'cho', 'đội', 'bóng', 'lạc quan', 'nhất', 'thế giới'], ['thua', 'cũng', 'đc', 'thắng', 'cũng', 'đc', 'nhưng', 'nhất định', 'ko', 'đc', 'buông', 'bỏ', 'cố', 'lên', 'mu', 'của', 'tôi', 'ơi', 'năm', 'sau', 'ta', 'làm', 'lại', 'đâu đó', 'vẫn', 'còn', 'những', 'người', 'luôn', 'ủng hộ', 'dõi', 'theo', 'cổ vũ', 'đội', 'bóng', 'hết mình', 'dù', 'có', 'là', 'j', 'chăng', 'nữa', 'mu', 'muôn', 'năm'], ['aletico', 'đã', 'mang', 'lại', 'sự', 'yên bình', 'cho', 'anh em', 'xem', 'bóng đá', 'trước', 'sự', 'hung hãn', 'của', 'fan', 'penaldo', 'mấy', 'ngày', 'qua'], ['nói', 'thật', 'chứ', 'một', 'dàn', 'hảo thủ', 'của', 'psg', 'còn', 'bị', 'loại', 'thì', 'mu', 'bị', 'loại', 'cũng', 'không', 'có', 'gì', 'bất ngờ'], ['trận', 'này', 'varane', 'và', 'maguire', 'đã', 'chơi', 'suất', 'xắc'], ['tất cả', 'chỉ', 'còn', 'là', 'kỉ niệm', 'vs', 'mu'], ['tôi', 'là', 'fan', 'mu', 'có', 'thực lực', 'thua', 'mới', 'buồn', 'chứ', 'đằng', 'này', 'ko', 'có', 'thực lực', 'thua', 'cũng', 'ko', 'tiếc', 'lắm', 'vào', 'vòng', 'tứ kết', 'bán kết', 'hay', 'gì', 'đó', 'thua', 'càng', 'đau', 'hơn', 'thôi', 'thì', 'dừng', 'chân', 'đúng', 'nơi', 'thể hiện', 'love', 'mu'], ['ống kính', 'quay', 'tới', 'thì', 'làm', 'mặt', 'ngầu', 'thôi', 'chứ', 'trong', 'bụng', 'ổng', 'vui', 'lắm', 'vì', 'mu', 'mà', 'ổng', 'rất', 'ghét', 'đã', 'thua', 'tiếp', 'khi', 'ổng', 'qua', 'clb', 'khác', 'tự dưng', 'ổng', 'sẽ', 'thắng', 'hoài', 'luôn', 'bởi', 'ổng', 'chỉ', 'anti', 'mu', 'thôi', 'điệp viên', 'rangnick', 'nguy hiểm', 'hơn', 'maguire', 'nhiều'], ['hết', 'là', 'đúng', 'rồi', 'ko', 'có', 'gì', 'phải', 'bất ngờ', 'với', 'thực lực', 'như vậy', 'thì', 'dừng', 'chân', 'là', 'hợp lý'], ['là', 'fan', 'mu', 'tôi', 'thấy', 'khá', 'bất ngờ', 'khi', 'đội', 'bóng', 'đc', 'vào', 'tứ kết', 'cùng', 'psg'], ['đá', 'ở', 'cúp', 'c', 'và', 'c', 'thì', 'độ', 'quái', 'trong', 'thi đấu', 'là', 'rất', 'quan trọng'], ['xem', 'highlight', 'thôi', 'nhưng', 'thấy', 'thủ thành', 'bên', 'quá', 'xuất sắc', 'rất', 'tiếc', 'cho', 'mu'], ['mesi', 'đã', 'gọi', 'và', 'ro', 'trả lời', 'cm', 'mừng', 'b', 'đã', 'đưa', 'đội', 'bóng', 'của', 'mình', 'về', 'đúng', 'vị thế', 'của', 'nó'], ['hàng', 'thủ', 'của', 'mu', 'đỉnh', 'quá'], ['quả', 'vào', 'đầu tiên', 'của', 'aletico', 'marid', 'do', 'ô', 'hậu vệ', 'mu', 'thấy', 'ô', 'kia', 'đánh đầu', 'còn', 'lé', 'đi', 'mà', 'đúng', 'ra', 'là', 'phải', 'nhảy', 'cùng', 'vào', 'đầu', 'lại', 'hài'], ['i', 'love', 'how', 'de', 'gea', 'gives', 'a', 'free', 'shot', 'to', 'atletico', 'and', 'then', 'yells', 'come', 'on', 'at', 'his', 'teammates', 'lol'], ['chúc mừng', 'atletico'], ['rô', 'có', 'được', 'chuyền', 'bóng', 'đâu', 'hậu', 'cánh', 'toàn', 'sút', 'không', 'thấy', 'tạt', 'messi', 'gọi', 'và', 'rô', 'trả lời', 'anh', 'cùng', 'dắt', 'tay', 'nhau', 'đi', 'về'], ['mu', 'đúng', 'ông', 'hoàng', 'dùng', 'người', 'chưa', 'bao giờ', 'thấy', 'đội', 'bóng', 'chơi', 'pressing', 'tầm', 'cao', 'mà', 'dùng', 'thủ môn', 'cổ điển'], ['chúc mừng', 'mu', 'đã', 'quay', 'trở lại'], ['một', 'trận', 'cầu', 'hay'], ['fan', 'mu', 'nhưng', 'cx', 'xin', 'chúc mừng', 'atc', 'mong', 'ronaldo', 'sớm', 'lấy', 'lại', 'tinh thần', 'cho', 'đại chiến', 'tại', 'vlworldcup', 'và', 'với', 'italia'], ['một', 'mùa', 'giải', 'thành công', 'của', 'mu', 'bị', 'loại', 'c', 'cố gắng', 'vô địch', 'tốp', 'nha'], ['sự', 'chắc chắn', 'kỷ luật', 'và', 'bản lĩnh', 'là', 'những', 'thứ', 'mu', 'ko', 'có'], ['ở', 'epl', 'bây h', 'đang', 'thứ', 'thua', 'arsenal', 'điểm', 'nhưng', 'đá', 'nhiều', 'hơn', 'trận', 'các', 'fan', 'mu', 'lạc quan', 'nhất', 'muốn', 'vô địch', 'c', 'để', 'có', 'vé', 'dự', 'c', 'mùa', 'sau', 'nhưng', 'giấc', 'mộng', 'sớm', 'tan', 'thành', 'mây khói'], ['tôi', 'k', 'hiểu', 'vì sao', 'pogba', 'phong độ', 'đang', 'bay', 'thì', 'dự bị', 'còn', 'b', 'thì', 'là', 'người', 'được', 'chọn'], ['thủ môn', 'chơi', 'trận', 'này', 'đỉnh', 'cực'], ['thật', 'trùng hợp', 'messi', 'và', 'ronaldo', 'đều', 'bị', 'loại', 'bởi', 'đội', 'bóng thủ đô', 'madrid', 'những', 'đội', 'mà', 'họ', 'đã', 'từng', 'trải', 'qua', 'đắng cay', 'ngọt bùi'], ['hiệp', 'mu', 'đá', 'khá', 'hay', 'nhưng', 'khi', 'để', 'cho', 'atm', 'ghi bàn', 'thắng', 'thì', 'để', 'khoan', 'thủng', 'được', 'hàng', 'phòng ngự', 'giày', 'đặc', 'của', 'atm', 'thật sự', 'khó', 'cho', 'bất cứ', 'đội', 'bóng', 'nào'], ['tội', 'gea', 'gánh', 'cả', 'rạp xiếc', 'còng', 'lưng', 'ra', 'đi', 'không', 'được', 'ở', 'lại', 'không', 'xong'], ['chả', 'sao', 'vẫn', 'yêu', 'anh', 'cr', 'và', 'mu'], ['harry', 'maquire', 'is', 'still', 'here', 'wow', 'man', 'utd', 'will', 'be', 'my', 'champions', 'of', 'fool', 'this', 'season', 'and', 'more'], ['đúng', 'là', 'cần', 'phải', 'có', 'tí', 'may mắn', 'phải', 'quả', 'đầu tiên', 'ko', 'trúng', 'vào', 'mặt', 'thủ môn', 'thì', 'ngon lành', 'chúc mừng', 'al'], ['chính xác', 'mu', 'chỉ', 'là', 'quá khứ', 'thôi', 'còn', 'hiện tại', 'đội', 'yếu', 'cũng', 'có thể', 'xơi', 'tái', 'đc'], ['trận', 'này', 'oblak', 'bắt', 'như', 'lên', 'đồng'], ['mu', 'quá', 'nhiều', 'cầu thủ', 'mang', 'chủ nghĩa', 'cá nhân', 'nếu', 'đồng đội', 'hơn', 'thì', 'có thể', 'mu', 'đã', 'có', 'nhiều', 'bàn', 'thắng'], ['khối', 'thịnh vượng', 'la', 'liga', 'muôn', 'năm'], ['trận', 'đấu', 'hay', 'của', 'aletico', 'họ', 'tấn công', 'ko', 'nhiều', 'nhưng', 'những', 'lần', 'tấn công', 'của', 'họ', 'rất', 'sắc sảo', 'và', 'trong', 'số', 'đó', 'họ', 'đã', 'thành công', 'mà', 'mình', 'thấy', 'ông', 'blv', 'bình luận', 'rõ', 'là', 'thiên vị', 'psg', 'của', 'messi', 'thua', 'thì', 'gào thét', 'tung hô', 'real', 'đủ', 'kiểu', 'hôm nay', 'mu', 'thua', 'ko', 'thấy', 'tung hô', 'aletico', 'mà', 'chỉ', 'thấy', 'tiếc', 'cho', 'mu'], ['anh', 'bất lực', 'xem', 'hết', 'video', 'mà', 'thấy', 'anh', 'được', 'đánh', 'mỗi', 'đầu', 'phát', 'vì', 'bóng', 'trúng', 'xà ngang', 'bật', 'lại'], ['t', 'cứ', 'mong', 'mu', 'thua', 'càng', 'nhiều', 'càng', 'tốt', 'để', 'họ', 'thấy', 'được', 'mà', 'cải tạo', 'lại', 'đội hình', 'thành phần nào', 'xứng đáng', 'thành phần nào', 'phải', 'tống khứ', 'càng', 'nhanh', 'càng', 'tốt'], ['mu', 'trận', 'này', 'đá', 'không', 'tệ', 'tạo', 'áp lực', 'lên', 'alt', 'khá', 'tốt', 'nhưng', 'lại', 'tạo', 'ra', 'cơ hội', 'quá', 'ít', 'chỉ', 'có', 'quả', 'đánh đầu', 'của', 'varane', 'là', 'nguy hiểm', 'thôi', 'rời', 'giải', 'như vậy', 'cũng', 'là', 'ngẩng', 'cao đầu', 'rồi', 'lực', 'của', 'mu', 'chưa', 'đủ', 'có', 'đi', 'tiếp', 'cũng', 'chẳng', 'vô địch', 'nổi', 'chúc mừng', 'alt', 'nhưng', 'vô địch', 'c', 'năm', 'nay', 'là', 'trong', 'cái', 'tên', 'liver', 'mc', 'và', 'real', 'theo', 'dự đoán', 'của', 'tui'], ['fan', 'bayern', 'chúc mừng', 'atm', 'và', 'chia buồn', 'vs', 'fan', 'mu', 'nhé', 'hẹn', 'các', 'b', 'mùa', 'giải', 'năm', 'sau'], ['chúc mừng', 'aletico', 'nhé', 'đội', 'bạn', 'xứng đáng', 'giành', 'vé'], ['một', 'trận', 'đấu', 'may mắn', 'cho', 'simeone', 'khi', 'ông', 'đã', 'kịp', 'tung', 'ra', 'cú', 'bứt', 'tốc', 'về', 'phía', 'đường hầm', 'mà', 'không', 'dính', 'phải', 'chai', 'nước', 'nào', 'từ', 'trên', 'khán đài', 'd'], ['ronaldo', 'và', 'messi', 'ko', 'còn', 'đc', 'gọi', 'là', 'những', 'ngôi sao', 'nữa', 'mà', 'giờ', 'hãy', 'gọi', 'anh', 'là', 'huyền thoại', 'chắc', 'ko', 'còn', 'chiếc', 'cup', 'c', 'nào', 'đc', 'anh', 'dâng', 'lên', 'ăn mừng', 'nữa'], ['pha', 'đánh', 'đầu', 'king', 'điển', 'vào', 'mồm', 'đồng đội', 'quá', 'hay'], ['thật', 'tiếc', 'cho', 'degea'], ['dù', 'thích', 'mu', 'nhưng', 'phải', 'nói', 'là', 'ngu', 'thì', 'chịu', 'alentico', 'kiên cường', 'và', 'tổ chức', 'xứng đáng', 'vào', 'hơn', 'chúc mừng', 'simione'], ['bậc', 'thầy', 'chiến thuật', 'người', 'sáng tạo', 'lối', 'đá', 'pressing', 'thầy', 'của', 'kloop', 'và', 'tuchel', 'khắc', 'tinh', 'của', 'atm', 'người', 'gieo', 'sầu', 'cho', 'cđv', 'atm', 'và', 'cái', 'kết', 'atm', 'ra', 'về', 'và', 'chuẩn bị', 'cho', 'đối thủ', 'tiếp theo', 'tại', 'tứ kết', 'c'], ['phải', 'cho', 'lên', 'top', 'thịnh hành', 'này', 'thì', 'khắc', 'tinh', 'này', 'thì', 'hung thần', 'tất cả', 'đã', 'xa', 'rồi', 'kể cả', 'với', 'messi', 'cũng', 'từng', 'là', 'khắc', 'tinh', 'với', 'mc', 'atm', 'ngấp nghé', 'top', 'laliga', 'nhưng', 'trình', 'của', 'mu', 'bây giờ', 'thua', 'cũng', 'chẳng', 'còn', 'bất ngờ'], ['điều', 'kỳ diệu', 'rời', 'rm', 'đến', 'đội', 'bóng', 'nào', 'dự', 'cúp', 'c', 'là', 'đội', 'đó', 'thành', 'khán giả', 'ngay'], ['mu', 'vẫn', 'thiếu', 'tiền vệ', 'trụ', 'đủ', 'tốt', 'để', 'fred', 'làm', 'tiền vệ', 'con thoi', 'phát huy', 'hết', 'khả năng', 'tấn công', 'các', 'cầu thủ', 'mu', 'cũng', 'nên', 'hạn chế', 'sút', 'xa', 'vì', 'thực tế', 'cho', 'thấy', 'ngoại trừ', 'quả', 'ro', 'nã', 'vào', 'lưới', 'tot', 'nó', 'hiếm', 'khi', 'thành công', 'và', 'là', 'sự', 'phung phí', 'cơ hội', 'làm', 'tinh thần', 'cầu thủ', 'đi', 'xuống'], ['thật', 'khó', 'để', 'm', 'u', 'sẽ', 'có', 'cơ hội', 'đá', 'c', 'mùa', 'sau', 'top', 'quá', 'xa vời'], ['oblak', 'khoẻ', 'quá', 'toàn', 'mấy', 'quả', 'nã', 'đạn', 'mà', 'ôm', 'gọn'], ['tuy', 'alt', 'dành', 'một', 'chiến thắng', 'xứng đáng', 'nhưng', 'mình', 'vẫn', 'thíckk', 'mu', 'dành', 'chiến thắng', 'hơn'], ['nói chung', 'là', 'ae', 'fan', 'mu', 'cũng', 'k', 'kì vọng', 'nhiều', 'chỉ', 'thấy', 'thương', 'cr', 'thôi', 'anh', 'già', 'quá', 'rồi'], ['buồn', 'của', 'gea', 'và', 'ronaldo', 'đô', 'con người', 'luôn', 'cố gắng', 'vì', 'tất cả'], ['ở', 'c', 'thì', 'lối', 'đá', 'ko', 'muốn', 'thua', 'thay vì', 'muốn', 'thắng', 'của', 'aletico', 'hay', 'chelese', 'dễ', 'vô địch'], ['xem', 'thấy', 'tội', 'a', 'và', 'degea', 'thật', 'thật', 'ra', 'trận', 'này', 'họ', 'đá', 'rất', 'tốt', 'còn', 'gì', 'chỉ', 'thiếu', 'sự', 'may mắn'], ['ở', 'tình huống', 'cầu thủ', 'atm', 'ghi bàn', 'thì', 'de', 'gea', 'có thể', 'làm', 'tốt', 'hơn', 'nếu như', 'a', 'ấy', 'không', 'phải', 'để', 'mắt', 'đến', 'siêu', 'tiền đạo', 'mằc', 'hài'], ['max', 'hài', 'phòng thủ', 'quá', 'hay', 'bằng', 'cách', 'chỉ', 'tay'], ['chân', 'sút', 'duy nhất', 'khiến', 'degea', 'run sợ', 'harry', 'maguireeeereeeee', 'chúc mừng', 'mu', 'quay', 'về', 'cuộc', 'đua', 'dành', 'top', 'epl'], ['lối', 'đá', 'cá nhân', 'của', 'mu', 'làm', 'nhm', 'vỡ mộng', 'chiếc', 'cúp', 'danh giá', 'chỉ', 'tội', 'cho', 'ronaldo', 'chạy', 'lòng vòng', 'mà', 'ko', 'ai', 'chuyền', 'bóng'], ['tội nghiệp', 'cho', 'de', 'gea'], ['trận', 'này', 'mu', 'đá', 'tốt', 'mà', 'nhưng', 'thủ môn', 'bên', 'atl', 'cứng', 'quá', 'cứng'], ['tội', 'ông', 'hlv', 'bị', 'ném', 'chai', 'nước', 'tội', 'a', 'bị', 'magiue', 'cho', 'quả', 'húc', 'đầu', 'vào', 'ngay', 'mồm', 'tội', 'cho', 'bruno', 'cứ', 'nói', 'suốt', 'không', 'chịu', 'tập trung', 'đá', 'tội', 'cho', 'quỷ', 'đỏ', 'lại', 'thêm', 'mùa', 'giải', 'nữa', 'trắng tay'], ['đệ', 'nhất', 'danh hài', 'maguire', 'mãi', 'đỉnh'], ['mọi', 'thứ', 'sẽ', 'bắt đầu', 'với', 'manu', 'ở', 'mùa', 'sau'], ['ko', 'thấy', 'các', 'tình huống', 'phối hợp', 'trong', 'vòng', 'cấm', 'mạnh', 'ai nấy', 'sút', 'thì', 'sẽ', 'khó', 'có', 'bàn', 'thắng', 'vì', 'những', 'tình huống', 'như', 'vậy', 'thủ', 'chủ động', 'hơn'], ['mu', 'trận', 'này', 'đá', 'cũng', 'tốt', 'fred', 'đá', 'khá', 'lên', 'chân', 'khâu', 'dứt điểm', 'còn', 'chưa', 'bén', 'lắm', 'obalak', 'bắt', 'quá', 'hay', 'chắc chắn', 'ra vào', 'hợp lý', 'atm', 'chơi', 'lì', 'và', 'tiểu xảo'], ['điểm', 'chung', 'giữa', 'mu', 'vs', 'chelsea', 'đều', 'sa thải', 'hlv', 'là', 'huyền thoại', 'của', 'clb', 'giữa', 'mùa', 'đều', 'bổ nhiệm', 'hlv', 'người', 'đức', 'đều', 'gặp', 'đội', 'atletico', 'de', 'madrid', 'tại', 'ucl'], ['tui', 'coi', 'song', 'hết', 'trận', 'mà', 'tui', 'khóc', 'á', 'tại', 'tui', 'là', 'fan', 'man', 'udt', 'rất', 'quan trọng', 'vs', 'man', 'utd'], ['chia buồn', 'với', 'mu', 'thế là', 'hai', 'siêu sao', 'dắt', 'tay', 'nhau', 'khỏi', 'c', 'giống', 'như', 'world', 'cup'], ['khi', 'de', 'gea', 'chơi', 'suất', 'xắc', 'thì', 'chúng ta', 'hiểu', 'những', 'người', 'phía', 'trên', 'thi đấu', 'tn'], ['chúc mừng', 'mu', 'về', 'tập trung', 'cho', 'giải', 'đấu', 'quốc nội', 'nhé'], ['hàng', 'thủ', 'mu', 'phong độ', 'ổn định', 'quá'], ['chúc mừng', 'a', 'mardrid', 'chia buồn', 'với', 'các', 'phan', 'mu'], ['thực lực', 'ko', 'có', 'sao', 'phải', 'buồn', 'mừng', 'là', 'loại', 'sớm', 'cho', 'biết', 'mình', 'đang', 'ở', 'đâu', 'để', 'chuẩn bị', 'mùa', 'tới'], ['chúc mừng', 'm', 'u', 'đạt', 'ước mơ', 'vô địch', 'c', 'nhé'], ['buồn', 'cho', 'những', 'huyền thoại'], ['bhl', 'mu', 'cần', 'xem lại', 'đội', 'bóng', 'hàng', 'thủ', 'và', 'tiền vệ', 'chiều', 'sâu', 'phải', 'nói', 'là', 'kém', 'cần', 'mua', 'thêm', 'cầu thủ', 'ở', 'tuyến', 'này'], ['không', 'còn', 'messi', 'và', 'ronaldo', 'nữa', 'không', 'biết', 'còn', 'bao nhiêu', 'dịp', 'để', 'xem', 'anh', 'thi đấu', 'c'], ['phỏng vấn', 'sau', 'trận', 'pv', 'chào', 'ralf', 'ông', 'có', 'cảm nghĩ', 'gì', 'sau', 'trận', 'đấu', 'ralf', 'im mồm', 'đi', 'việc', 'của', 'chúng tôi', 'là', 'tập trung', 'cho', 'trận', 'sắp', 'tới'], ['chúc mừng', 'mu', 'làm', 'kẻ', 'được', 'chọn'], ['cuối cùng', 'simeone', 'đã', 'giải', 'lời', 'nguyền', 'bị', 'loại', 'bởi', 'đội', 'bóng', 'có', 'ronaldo', 'chúc mừng', 'ông'], ['vui', 'quá', 'chúc mừng', 'atletico', 'madrid', 'chúc mừng', 'griezmann'], ['phút', 'hình ảnh', 'thật', 'đẹp', 'của', 'mnsđ', 'dành', 'cho', 'đội', 'khách'], ['cười', 'ông', 'blv', 'messi', 'đã', 'gọi', 'và', 'ronaldo', 'trả lời', 'hài', 'vc'], ['vấn đề', 'hàng', 'thủ', 'của', 'manchester', 'united', 'đã', 'có', 'từ', 'thời', 'của', 'ole', 'gunnar', 'solskjær', 'nhưng', 'bây giờ', 'vẫn', 'không', 'cải thiện'], ['mù u', 'đã', 'làm', 'rất', 'tốt', 'trong', 'việc', 'nhường', 'vé', 'cho', 'đối thủ', 'đi', 'tiếp'], ['tôi', 'thấy', 'đội', 'này', 'đá', 'rất', 'cân sức', 'cũng', 'ko', 'hẳn', 'là', 'atm', 'mạnh', 'hơn', 'thắng', 'rất', 'sát nút', 'quá', 'tiếc', 'cho', 'man', 'utd'], ['thua', 'không', 'sao', 'cả', 'thua', 'để', 'nhận', 'ra', 'mình', 'đang', 'ở', 'vị trí', 'nào', 'và', 'những', 'sai lầm', 'nào', 'mình', 'lên', 'khắc phục', 'cố', 'lên', 'mu', 'tôi', 'vẫn', 'yêu', 'bạn', 'từ', 'năm', 'đến', 'giờ'], ['vậy', 'là', 'cả', 'huyền thoại', 'đều', 'phải', 'rời', 'giải', 'mong', 'anh', 'vẫn', 'cống hiến', 'hết mình', 'ở', 'giải', 'quốc nội'], ['mu', 'ngày xưa', 'còn', 'mạnh', 'chứ', 'mu', 'bây giờ', 'đá', 'với', 'đội', 'bét', 'bảng', 'còn', 'bị', 'cầm', 'hoà', 'thì', 'làm sao', 'mà', 'có', 'khả chen', 'tran', 'vào', 'tốp', 'được'], ['đầu', 'mùa', 'ăn', 'giữa', 'mùa', 'ăn', 'cuối', 'mùa', 'đầy', 'cup', 'tuyên bố', 'đã', 'hết', 'phim', 'hài', 'trong', 'mùa', 'giải', 'này', 'có lẽ', 'đây', 'là', 'trận', 'đấu', 'c', 'cuối cùng', 'của', 'bổn', 'lầy', 'thật', 'đáng', 'tiếc'], ['vs', 'lần', 'mắc', 'hài', 'chỉ', 'sút', 'vậy', 'mà', 'de', 'paul', 'sút', 'k', 'dô', 'tức', 'thiệt', 'lần', 'mé', 'm', 'xui', 'quá', 'de', 'paul', 'thêm', 'quả', 'bonus', 'hút', 'vào', 'mồm', 'cr', 'nữa', 'chứ'], ['thua', 'là', 'thua', 'trái', 'bóng', 'tròn', 'không', 'nên', 'tiếc'], ['thức', 'đến', 'h', 'sáng', 'chỉ', 'để', 'xem', 'anh', 'ở', 'nhà', 'xem', 'c', 'lối', 'đá', 'của', 'mu', 'hiện tại', 'rất', 'khó', 'có thể', 'chiến thắng', 'được', 'kỉ luật', 'của', 'xe', 'bus', 'nhiều', 'tầng', 'atm'], ['ngày xưa', 'messi', 'ghi bàn', 'gọi', 'rô', 'trả lời', 'bây giờ', 'già', 'rồi', 'a', 'gọi', 'nhau', 'về', 'nhà'], ['dù', 'gì', 'thì', 'aletico', 'vào', 'vòng', 'trong', 'vẫn', 'xứng đáng', 'hơn', 'mu', 'vào', 'thì', 'các', 'đội', 'khác', 'thích', 'quá'], ['khá', 'tiếc', 'cho', 'anh', 'nhưng', 'mu', 'loại', 'tôi', 'vẫn', 'mừng'], ['thủ môn', 'quá', 'chất lượng'], ['khi', 'mà', 'thành', 'madrid', 'của', 'tôi', 'đều', 'làm', 'đc', 'tôi', 'thấy', 'quá', 'vui', 'và', 'sẽ', 'cổ vũ', 'thành', 'madrid', 'trong', 'lúc', 'bốc', 'thăm', 'vòng', 'tứ kết'], ['vẫn', 'là', 'hà', 'duy', 'mắc', 'hài', 'khắc', 'tinh', 'của', 'de', 'gea'], ['cvđ', 'hành xử', 'văn minh', 'quá'], ['phong cách', 'cục súc', 'hiệu quả', 'của', 'simone', 'đã', 'màu mè', 'thì', 'phải', 'hiệu quả', 'như', 'pep', 'và', 'klop', 'còn', 'không', 'thì', 'hãy', 'cục cằn', 'như', 'simone', 'nửa vời', 'như', 'mu', 'là', 'dở', 'rồi'], ['nghe', 'blv', 'nói', 'atm', 'tấn công', 'ko', 'nhiều', 'nhưng', 'tấn công', 'có', 'bàn', 'suy', 'ra', 'hàng', 'thủ', 'có', 'vấn đề'], ['xem', 'mu', 'đá', 'xem', 'còn', 'chán', 'hơn', 'những', 'đội', 'top', 'dưới', 'vị trí', 'hậu', 'về', 'thì', 'tùm', 'la', 'tùm lum', 'thằng', 'cánh', 'thì', 'không', 'bám', 'cánh', 'thằng', 'trung vệ', 'thì', 'chạy', 'ngơ ngơ ngơ ngơ'], ['lại', 'là', 'đường', 'chuyển', 'về', 'của', 'anh', 'max', 'hài', 'tr', 'bảng', 'và', 'những', 'đường', 'chuyền', 'về', 'đi', 'sâu', 'vào', 'lòng', 'đất'], ['dừng', 'bước', 'sớm', 'để', 'có thể lực', 'đua', 'vào', 'top', 'chứ', 'không thể', 'giành', 'vô địch', 'c', 'toàn', 'là', 'những', 'đối thủ', 'hàng đầu', 'thế giới'], ['thank', 'bhl', 'ac', 'milan', 'đã', 'giữ', 'lại', 's', 'poli', 'ac', 'milan', 'đã', 'bay', 'cao', 'nhự', 'vậy', 'còn', 'lúc', 'đó', 'bổ nhiệm', 'thầy', 'ông', 'nội', 'này', 'có', 'mà', 'sập', 'mặt', 'á', 'mu', 'rùa', 'giờ', 'là', 'đội', 'bóng', 'và', 'hlv', 'tầm', 'trung', 'nhé', 'các', 'mnsd', 'chui', 'xuống', 'hang', 'hết', 'ruj', 'hả', 'hahaha'], ['mu', 'mãi mãi', 'như', 'những', 'đứa', 'trẻ', 'k', 'bao giờ', 'lớn'], ['tiền đạo', 'đánh', 'chặn hậu vệ', 'kiến thiết', 'mu', 'đội', 'bóng', 'mạnh', 'nhất', 'thế giới', 'thời điểm', 'hiện tại'], ['yêu', 'bóng đá', 'giống', 'như', 'yêu người', 'vậy', 'mu', 'có', 'đá', 'hạng', 'mình', 'vẫn', 'yêu', 'mu'], ['mu', 'hiện tại', 'hậu vệ', 'ko', 'biết', 'cách', 'phòng ngự', 'tấn công', 'không', 'biết', 'cách', 'phối hợp', 'với', 'nhau'], ['hàng', 'thủ', 'mu', 'luôn', 'làm', 'chúng ta', 'đau đầu'], ['harry', 'mắc', 'quai hàm', 'xử lý', 'thật', 'đẳng cấp'], ['một', 'trận', 'đấu', 'rất', 'hay'], ['atletico', 'năm', 'nay', 'qua', 'đc', 'cửa', 'kiểm duyệt', 'của', 'a', 'rồi', 'chắc', 'đang', 'mừng', 'như', 'vô địch', 'rồi'], ['simone', 'khúc', 'cuối', 'đã', 'chạy', 'thật', 'nhanh', 'zo', 'r', 'mà', 'vẫn', 'bị', 'ném', 'nhọ', 'thế'], ['ngày', 'nào', 'maguire', 'còn', 'làm', 'đội trưởng', 'thì', 'vẫn', 'còn', 'nhiều', 'tiếng', 'cười'], ['macgoai', 'cầm', 'bóng', 'nhìn', 'tưởng', 'tg', 'ra', 'đc', 'luôn', 'pha', 'bóng', 'thương hiệu', 'cmnr', 'lần', 'nào', 'cũng', 'khổ', 'de', 'gea'], ['vì', 'trận', 'mu', 'vs', 'liverpool', 'vào', 'ngày', 'bị', 'hoãn', 'vì', 'liverpool', 'bận', 'đá', 'cup', 'fa', 'nên', 'ronaldo', 'và', 'các', 'đồng đội', 'tại', 'bồ đào', 'nha', 'sẽ', 'tập trung', 'cho', 'vòng', 'đấu', 'playoff', 'sinh tử', 'để', 'có', 'tấm', 'vé', 'dự', 'world', 'cup', 'mong', 'sau', 'nỗi', 'buồn', 'bị', 'loại', 'sớm', 'tại', 'c', 'của', 'ronaldo', 'nó', 'ko', 'xuất hiện', 'tại', 'vlwc'], ['cđv', 'quỷ', 'đỏ', 'chết', 'lặng', 'sau', 'khi', 'mà', 'tiếng', 'còi', 'kết thúc', 'trận', 'đấu', 'của', 'trọng tài', 'vang', 'lên', 'lúc', 'đó', 'mình', 'đã', 'khóc', 'mình', 'ko thể', 'kìm', 'đc', 'nước mắt'], ['vừa', 'trận', 'rồi', 'gặp', 'tottenham', 'cr', 'được', 'tung hô', 'như', 'thánh nhân', 'trận', 'này', 'vật vờ', 'thấy', 'mà', 'thương', 'nhìn', 'mu', 'đá', 'mà', 'thấy', 'tội', 'khi', 'bị', 'dẫn', 'bàn', 'mu', 'dôn', 'lên', 'tấn công', 'mà', 'chẳng', 'có', 'mang', 'miếng', 'phối hợp', 'nào', 'để', 'áp', 'sát', 'khung thành', 'của', 'đội', 'khách'], ['từ', 'năm', 'trong', 'trận', 'chung kết', 'c', 'đến', 'nay', 'các', 'đội', 'bóng', 'của', 'tây', 'ban', 'nha', 'luôn', 'được', 'các', 'trọng tài', 'ưu ái', 'thiên vị', 'tại', 'các', 'cúp', 'châu âu', 'vì vậy', 'mà', 'các', 'clb', 'của', 'tây', 'ban', 'nha', 'giành', 'được', 'nhiều', 'cúp', 'châu âu'], ['nếu', 'là', 't', 'sắp', 'đội', 'trong', 'ffol', 'thì', 'sắp', 'thay', 'max', 'hài', 'bằng', 'baily', 'cho', 'matic', 'vào', 'đá', 'thay', 'fred', 'cho', 'pogba', 'thay', 'mc', 'tominay', 'đá', 'cao', 'hơn', 'xíu', 'cùng', 'bruno', 'tiền đạo', 'cánh', 'là', 'rasford', 'và', 'elanga', 'cắm', 'là', 'cr'], ['hành động', 'cuối cùng', 'của', 'cdv', 'man', 'ú', 'văn minh', 'thế'], ['nhìn', 'maguire', 'cầm', 'bóng', 'thì', 'hiểu', 'được', 'điều', 'gì', 'sắp', 'xảy', 'ra'], ['chúc mừng', 'aletico', 'marid', 'mu', 'trắng tay', 'mùa', 'giải'], ['fan', 'cuồng', 'mu', 'nhiều', 'người', 'sẽ', 'quay', 'xe', 'tôi', 'là', 'fan', 'atletico', 'và', 'fan', 'cr', 'cũng', 'k', 'gáy', 'đc', 'nữa', 'vì', 'đơn giản', 'bóng đá', 'là', 'tập thể', 'k', 'phải', 'thắng', 'tung hô', 'một', 'người', 'thua', 'thì', 'đổ lỗi', 'một', 'người', 'chúc mừng', 'alectico', 'madrid'], ['tôi', 'fan', 'mu', 'và', 'real', 'madrid', 'mu', 'thua', 'trận', 'này', 'là', 'đúng', 'với', 'thực lực', 'của', 'họ', 'ko', 'phải', 'lúc nào', 'cũng', 'trong', 'chơ', 'vào', 'cá nhân', 'mùa', 'sau', 'làm', 'lại', 'vậy', 'buồn', 'cho', 'cr', 'quá', 'ace', 'ơi'], ['elanga', 'đá', 'tương đối', 'nét', 'cầm', 'bóng', 'dứt điểm', 'tự tin', 'tiêc', 'là', 'thủ môn', 'alt', 'chơi', 'quá', 'hay'], ['mùa', 'giải', 'năm', 'sau', 'có lẽ', 'manchester', 'united', 'sẽ', 'phải', 'hiện diện', 'ở', 'đấu trường', 'europa', 'league', 'và', 'vị', 'hlv', 'mới', 'ít nhất', 'sẽ', 'phải', 'đưa', 'những', 'nhân tố', 'mới', 'lên', 'đội', 'và', 'trẻ hoá', 'đội hình'], ['messi', 'gọi', 'và', 'ronaldo', 'trả lời', 'hợp lý'], ['thêm', 'mùa', 'giải', 'trắng tay', 'cho', 'mu', 'khả năng', 'cao', 'mùa', 'sau', 'mu', 'sẽ', 'lại', 'được', 'chơi', 'ở', 'đấu trường', 'c', 'cho', 'phù hợp', 'với', 'thực lực', 'trận', 'đấu', 'hay', 'của', 'atm', 'oblak', 'vẫn', 'đang', 'là', 'trong', 'những', 'thủ môn', 'hay', 'nhất', 'thế giới'], ['vâng', 'lúc', 'chúng tôi', 'thắng', 'aletico', 'thì', 'lại', 'bảo', 'chel', 'gặp', 'toàn', 'đội', 'yếu', 'trong', 'khi', 'năm ngoái', 'họ', 'vô địch', 'laliga', 'phong độ', 'còn', 'cao', 'hơn', 'năm', 'nay', 'rồi', 'các', 'bạn', 'hết', 'lý do', 'để', 'chê', 'chưa'], ['k', 'thể', 'hiểu', 'nối', 'sao', 'vẫn', 'để', 'bố', 'magure', 'đá', 'chính', 'dc', 'nhỉ', 'trời ơi', 'k', 'thể', 'hiểu', 'nổi', 'og', 'hlv', 'nghĩ', 'gì', 'khi', 'cứ', 'để', 'nó', 'đá', 'chính', 'suốt', 'thế', 'mu', 'cần', 'hlv', 'tốt', 'để', 'mùa', 'sau', 'trở lại', 'vs', 'cuộc', 'đua', 'vô địch'], ['trận', 'này', 'thấy', 'mu', 'đá', 'ổn', 'phối hợp', 'tốt', 'nhưng', 'chưa', 'may mắn', 'tiếc', 'cho', 'mu'], ['mác', 'hài', 'cầm', 'bóng', 'gần', 'gôn', 'cđv', 'rớt', 'mẹ', 'tim'], ['thật', 'buồn', 'cho', 'anh', 'cr', 'trận', 'này', 'chẳng', 'được', 'lần', 'cẩm', 'bóng', 'và', 'dứt điểm', 'một cách', 'thoải mái'], ['hary', 'magiue', 'vẫn', 'làm', 'tốt', 'vai trò', 'của', 'mình'], ['ôi', 'chelsea', 'cố', 'lên', 'tôi', 'yêu', 'chelsea'], ['và', 'thế là', 'hết', 'và', 'thế', 'là', 'hết', 'với', 'mu', 'khổ thân', 'blv', 'nghẹn ngào', 'nói'], ['đầu', 'mùa', 'nhuộm', 'đỏ', 'trời', 'âu', 'cuối', 'mùa', 'nhuộm', 'đỏ', 'hang', 'sâu', 'ngã', 'cùng', 'đội', 'bóng', 'của', 'những', 'danh hài', 'kkk', 'vừa', 'lòng', 'tàu', 'lắm'], ['đội', 'bóng', 'người', 'hâm mộ', 'của', 'đội', 'bóng', 'lạc quan', 'nhất', 'thế giới', 'xứng đáng', 'được', 'nghỉ', 'ở', 'các', 'giải', 'đấu'], ['elanga', 'đá', 'vẫn', 'ổn', 'nhưng', 'cần', 'học hỏi', 'thêm', 'rất', 'nhiều'], ['mu', 'bỏ', 'c', 'để', 'về', 'giữ', 'hạng', 'tại', 'ngoại hạng', 'anh', 'đó', 'là', 'sự', 'toan tính', 'đầy', 'chiến thuật'], ['maguire', 'trận', 'nào', 'cũng', 'có', 'những', 'pha', 'xử lý', 'đi', 'vào', 'lòng', 'đất'], ['nằm', 'trong', 'tính toán', 'của', 'bhl', 'mu', 'cả', 'cố ý', 'loại', 'c', 'để', 'tập trung', 'sức', 'đá', 'premier', 'league'], ['chút', 'mừng', 'đội', 'khách', 'nhà'], ['tội nghiệp', 'mấy', 'thằng', 'blv', 'vừa', 'bình luận', 'vừa', 'cổ vũ', 'mà', 'man', 'đần', 'vẫn', 'bị', 'loại', 'man', 'đần', 'mà', 'vào', 'bàn', 'chắc', 'nó', 'gào', 'như', 'mèo', 'động', 'đực'], ['để', 'đội hình', 'như', 'lúc', 'đấu', 'vs', 'tot', 'có khi', 'lại', 'thắng', 'đang', 'có', 'đà', 'xong', 'thay', 'bruno', 'vào', 'chỗ', 'pogba'], ['tôi', 'thấy', 'cr', 'rất', 'cô đơn'], ['morinho', 'vẫn', 'rất', 'khác', 'mu', 'đã', 'sai lầm', 'khi', 'sa thải', 'ông'], ['messi', 'gọi', 'ronaldo', 'trả lời', 'dắt tay', 'nhau', 'rời', 'champions', 'league', 'thực sự', 'công nhận', 'trận', 'này', 'a', 'madrid', 'chơi', 'tốt', 'thật', 'chúc mừng', 'atletico', 'madrid'], ['xem', 'trận', 'này', 'mới', 'thấy', 'mùa', 'chước', 'chelsea', 'của', 'tôi', 'yêu', 'mạnh', 'cỡ', 'nào', 'thắng', 'atm', 'thắng', 'cả', 'real', 'madrid', 'và', 'cuối cùng', 'thắng', 'tất cả'], ['hành động', 'đẹp', 'của', 'cổ động viên', 'mu', 'khi', 'hết', 'trận', 'kìa'], ['trận', 'này', 'thấy', 'a', 'bị', 'cô lập', 'đáng', 'thương', 'quá', 'đồng đội', 'mạnh', 'ai nấy', 'sút', 'k', 'chịu', 'phối hợp', 'hay', 'chuyền', 'cho', 'a', 'j', 'cả', 'thua', 'cũng', 'phải'], ['nhìn', 'đội hình', 'ra', 'sân', 'đủ', 'biết', 'kết quả', 'rồi'], ['fan', 'mu', 'chắc', 'đau', 'tim', 'với', 'đội trưởng', 'tấu', 'hài', 'của', 'mình', 'nhìn', 'mà', 'tức', 'hộ', 'tước', 'băng', 'đội trưởng', 'cho', 'dự bị', 'xem', 'mà', 'buồn cười', 'thay'], ['de', 'gea', 'vẫn', 'quá', 'hay', 'vẫn', 'khao khát', 'chiến thắng', 'và', 'vẫn', 'bị', 'bóp', 'thương', 'anh', 'thật sự'], ['tôi', 'là', 'fan', 'mu', 'nhưng', 'trận', 'thua', 'này', 'ko', 'trách', 'đội', 'bóng', 'thật sự', 'thì', 'vs', 'độ', 'tinh quái', 'và', 'lối', 'chơi', 'của', 'atlentico', 'madrid', 'dưới', 'triều đại', 'của', 'simione', 'suốt', 'một', 'thập kỉ', 'qua', 'rất', 'khó', 'để', 'mu', 'có thể', 'vượt', 'qua'], ['đối với', 'mu', 'thì', 'chiếc', 'cup', 'trong', 'lòng', 'người', 'hâm mộ', 'là', 'thứ', 'quý giá', 'nhất', 'rồi'], ['hari', 'mắc', 'gai', 'tếu', 'vãi', 'de', 'gea', 'khác biệt', 'với', 'tất cả'], ['messi', 'đã', 'gọi', 'và', 'ronaldo', 'lập tức', 'trả lời', 'thật', 'tiếc', 'cho', 'hai', 'ngôi sao', 'hàng đầu', 'thế giới', 'bị', 'loại', 'sớm'], ['mùa', 'này', 'cúp', 'lớn', 'nhất', 'của', 'mu', 'là', 'fan', 'hâm mộ'], ['tội nghiệp', 'hlv', 'mu chạy', 'chốn chui', 'chốn', 'nhủi', 'vào', 'hầm'], ['ko', 'thể', 'xem thường', 'đại diện', 'của', 'tbn', 'ở', 'cúp', 'châu âu', 'được', 'mà'], ['đôi', 'khi', 'cũng', 'có', 'phần', 'may mắn', 'cho', 'đội', 'khách']]\n"
     ]
    }
   ],
   "source": [
    "sentences=[]\n",
    "\n",
    "all_tokens_count=0\n",
    "for line in clean_df['clean_comments']:\n",
    "    tokens = word_tokenize(line)\n",
    "    all_tokens_count+=len(tokens)\n",
    "    sentences.append(tokens)\n",
    "\n",
    "print('all_tokens_count=',all_tokens_count)\n",
    "print(len(sentences))\n",
    "print(sentences)"
   ]
  },
  {
   "cell_type": "markdown",
   "id": "de8d70ea",
   "metadata": {},
   "source": [
    "**Remove stopword with Vietnamese stopword dic**"
   ]
  },
  {
   "cell_type": "code",
   "execution_count": 14,
   "id": "7abd9cdf",
   "metadata": {},
   "outputs": [
    {
     "data": {
      "text/html": [
       "<div>\n",
       "<style scoped>\n",
       "    .dataframe tbody tr th:only-of-type {\n",
       "        vertical-align: middle;\n",
       "    }\n",
       "\n",
       "    .dataframe tbody tr th {\n",
       "        vertical-align: top;\n",
       "    }\n",
       "\n",
       "    .dataframe thead th {\n",
       "        text-align: right;\n",
       "    }\n",
       "</style>\n",
       "<table border=\"1\" class=\"dataframe\">\n",
       "  <thead>\n",
       "    <tr style=\"text-align: right;\">\n",
       "      <th></th>\n",
       "      <th>0</th>\n",
       "    </tr>\n",
       "  </thead>\n",
       "  <tbody>\n",
       "    <tr>\n",
       "      <th>0</th>\n",
       "      <td>a lô</td>\n",
       "    </tr>\n",
       "    <tr>\n",
       "      <th>1</th>\n",
       "      <td>a ha</td>\n",
       "    </tr>\n",
       "    <tr>\n",
       "      <th>2</th>\n",
       "      <td>ai</td>\n",
       "    </tr>\n",
       "    <tr>\n",
       "      <th>3</th>\n",
       "      <td>ai ai</td>\n",
       "    </tr>\n",
       "    <tr>\n",
       "      <th>4</th>\n",
       "      <td>ai nấy</td>\n",
       "    </tr>\n",
       "  </tbody>\n",
       "</table>\n",
       "</div>"
      ],
      "text/plain": [
       "        0\n",
       "0    a lô\n",
       "1    a ha\n",
       "2      ai\n",
       "3   ai ai\n",
       "4  ai nấy"
      ]
     },
     "execution_count": 14,
     "metadata": {},
     "output_type": "execute_result"
    }
   ],
   "source": [
    "# Read Vietnamese stopword dictionary\n",
    "stop_word = pd.read_csv('./vietnamese-stopwords.txt', header=None)\n",
    "stop_word.head()"
   ]
  },
  {
   "cell_type": "code",
   "execution_count": 15,
   "id": "571f7555",
   "metadata": {},
   "outputs": [],
   "source": [
    "# Convert pandas to list\n",
    "stop_word = stop_word[0].tolist()"
   ]
  },
  {
   "cell_type": "code",
   "execution_count": 16,
   "id": "867b7b97",
   "metadata": {},
   "outputs": [],
   "source": [
    "# Remove stop words\n",
    "for i in range(len(sentences)):\n",
    "  sentences[i] = [word for word in sentences[i] if not word in stop_word]"
   ]
  },
  {
   "cell_type": "code",
   "execution_count": 17,
   "id": "983f1028",
   "metadata": {},
   "outputs": [
    {
     "data": {
      "text/plain": [
       "[['ronaldo', 'bớt', 'sợ', 'mắt', 'atletico'],\n",
       " ['cup',\n",
       "  'mu',\n",
       "  'cup',\n",
       "  'nhm',\n",
       "  'đầu',\n",
       "  'mùa',\n",
       "  'nhuộm',\n",
       "  'đỏ',\n",
       "  'trời',\n",
       "  'âu',\n",
       "  'mùa',\n",
       "  'nhuộm',\n",
       "  'đỏ',\n",
       "  'hang',\n",
       "  'sâu',\n",
       "  'ngõ',\n",
       "  'xúc động',\n",
       "  'cđv',\n",
       "  'mu',\n",
       "  'tri ân',\n",
       "  'hlv',\n",
       "  'diego',\n",
       "  'simeone',\n",
       "  'trận',\n",
       "  'đấu'],\n",
       " ['fan', 'atm', 'thắng', 'mu']]"
      ]
     },
     "execution_count": 17,
     "metadata": {},
     "output_type": "execute_result"
    }
   ],
   "source": [
    "sentences[:3]"
   ]
  },
  {
   "cell_type": "markdown",
   "id": "ce3e7bbd",
   "metadata": {},
   "source": [
    "**Feature Extraction with TF-IDF**"
   ]
  },
  {
   "cell_type": "code",
   "execution_count": 18,
   "id": "9741441e",
   "metadata": {},
   "outputs": [],
   "source": [
    "tokenizer = Tokenizer()\n",
    "tokenizer.fit_on_texts(sentences)"
   ]
  },
  {
   "cell_type": "code",
   "execution_count": 19,
   "id": "37391d5c",
   "metadata": {},
   "outputs": [
    {
     "name": "stdout",
     "output_type": "stream",
     "text": [
      "[[0.         0.         0.         ... 0.         0.         0.        ]\n",
      " [0.         2.10611512 0.         ... 0.         0.         0.        ]\n",
      " [0.         1.24390551 0.         ... 0.         0.         0.        ]\n",
      " [0.         0.         0.         ... 0.         0.         0.        ]\n",
      " [0.         2.10611512 0.         ... 0.         0.         0.        ]\n",
      " [0.         1.24390551 0.         ... 0.         0.         0.        ]]\n",
      "(200, 806)\n"
     ]
    }
   ],
   "source": [
    "# Get Feature Extraction for 200 comments with tf-idf\n",
    "X = tokenizer.texts_to_matrix(sentences,mode='tfidf')\n",
    "print(X[:6])\n",
    "print(X.shape)"
   ]
  }
 ],
 "metadata": {
  "kernelspec": {
   "display_name": "Python 3 (ipykernel)",
   "language": "python",
   "name": "python3"
  },
  "language_info": {
   "codemirror_mode": {
    "name": "ipython",
    "version": 3
   },
   "file_extension": ".py",
   "mimetype": "text/x-python",
   "name": "python",
   "nbconvert_exporter": "python",
   "pygments_lexer": "ipython3",
   "version": "3.10.3"
  }
 },
 "nbformat": 4,
 "nbformat_minor": 5
}
